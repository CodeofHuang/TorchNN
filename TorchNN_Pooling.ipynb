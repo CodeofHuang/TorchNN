{
  "nbformat": 4,
  "nbformat_minor": 0,
  "metadata": {
    "colab": {
      "provenance": [],
      "authorship_tag": "ABX9TyPL9tGalTD6r8wM6vOmipP1",
      "include_colab_link": true
    },
    "kernelspec": {
      "name": "python3",
      "display_name": "Python 3"
    },
    "language_info": {
      "name": "python"
    }
  },
  "cells": [
    {
      "cell_type": "markdown",
      "metadata": {
        "id": "view-in-github",
        "colab_type": "text"
      },
      "source": [
        "<a href=\"https://colab.research.google.com/github/sardear/TorchNN/blob/main/TorchNN_Pooling.ipynb\" target=\"_parent\"><img src=\"https://colab.research.google.com/assets/colab-badge.svg\" alt=\"Open In Colab\"/></a>"
      ]
    },
    {
      "cell_type": "code",
      "execution_count": 18,
      "metadata": {
        "colab": {
          "base_uri": "https://localhost:8080/"
        },
        "id": "r7SrFQ6MNSDV",
        "outputId": "052baa48-525f-42dd-d21d-f0a9714c5a13"
      },
      "outputs": [
        {
          "output_type": "stream",
          "name": "stdout",
          "text": [
            "tensor([[[ 2.7040,  0.2313,  0.3785,  1.9474, -0.7484],\n",
            "         [-0.3140, -0.3340,  1.5712, -2.1298,  0.5638],\n",
            "         [ 0.8799,  0.1033, -0.2813, -0.0692, -1.4321],\n",
            "         [ 1.1635, -0.8883,  0.2899,  1.5491,  1.7248],\n",
            "         [-2.2833,  0.1215,  0.4872,  1.2655,  1.8281]]])\n",
            "tensor([[[2.7040, 1.9474, 1.9474],\n",
            "         [1.5712, 1.5712, 1.7248],\n",
            "         [1.1635, 1.5491, 1.8281]]])\n"
          ]
        }
      ],
      "source": [
        "## Max pooling\n",
        "## 主要参数\n",
        "## kernel size:3x3,5x5,..取max的区域大小\n",
        "## stride:步长，预设kernel size\n",
        "import torch\n",
        "import torch.nn as nn\n",
        "m = nn.MaxPool2d(kernel_size=3, stride=1, padding=0, dilation=1) #可修改padding=1或者dilation=2看看效果\n",
        "input = torch.randn((5,5))\n",
        "input = input.unsqueeze(0) #必须包含batch\n",
        "output = m(input)\n",
        "print(input)\n",
        "print(output)"
      ]
    },
    {
      "cell_type": "code",
      "execution_count": 17,
      "metadata": {
        "colab": {
          "base_uri": "https://localhost:8080/"
        },
        "outputId": "d3d0d6e8-e72c-4a0e-8b31-4240395c4cfa",
        "id": "e-RmvERVUt5-"
      },
      "outputs": [
        {
          "output_type": "stream",
          "name": "stdout",
          "text": [
            "tensor([[[1., 1., 1., 1., 1.],\n",
            "         [1., 1., 1., 1., 1.],\n",
            "         [1., 1., 1., 1., 1.],\n",
            "         [1., 1., 1., 1., 1.],\n",
            "         [1., 1., 1., 1., 1.]]])\n",
            "tensor([[[1., 1., 1.],\n",
            "         [1., 1., 1.],\n",
            "         [1., 1., 1.]]])\n"
          ]
        }
      ],
      "source": [
        "## Average pooling\n",
        "## 主要参数\n",
        "## kernel size:3x3,5x5,..取max的区域大小\n",
        "## stride:步长，预设kernel size\n",
        "import torch\n",
        "import torch.nn as nn\n",
        "m = nn.AvgPool2d(kernel_size=3, stride=1, padding=0) #可修改stride=2, padding=1看看效果\n",
        "input = torch.ones((5,5))\n",
        "# input = torch.randn((5,5))\n",
        "input = input.unsqueeze(0)\n",
        "output = m(input)\n",
        "print(input)\n",
        "print(output)"
      ]
    }
  ]
}