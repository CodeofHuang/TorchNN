{
  "nbformat": 4,
  "nbformat_minor": 0,
  "metadata": {
    "colab": {
      "provenance": [],
      "authorship_tag": "ABX9TyNVvuLGy8WKhxxNYKE7GA06",
      "include_colab_link": true
    },
    "kernelspec": {
      "name": "python3",
      "display_name": "Python 3"
    },
    "language_info": {
      "name": "python"
    }
  },
  "cells": [
    {
      "cell_type": "markdown",
      "metadata": {
        "id": "view-in-github",
        "colab_type": "text"
      },
      "source": [
        "<a href=\"https://colab.research.google.com/github/sardear/TorchNN/blob/main/TorchNN_LinearLayer.ipynb\" target=\"_parent\"><img src=\"https://colab.research.google.com/assets/colab-badge.svg\" alt=\"Open In Colab\"/></a>"
      ]
    },
    {
      "cell_type": "markdown",
      "source": [
        "Applies a linear transformation to the incoming data:\n",
        "$y=x A^{T}+b$"
      ],
      "metadata": {
        "id": "LLr2KNOkH7sA"
      }
    },
    {
      "cell_type": "code",
      "execution_count": 7,
      "metadata": {
        "colab": {
          "base_uri": "https://localhost:8080/"
        },
        "id": "PbEDz-P4CUPu",
        "outputId": "2dcebe04-4573-4ea7-e9f0-b5827af063a0"
      },
      "outputs": [
        {
          "output_type": "stream",
          "name": "stdout",
          "text": [
            "Parameter containing:\n",
            "tensor([[ 0.2777,  0.0270,  0.0864,  0.2771],\n",
            "        [-0.1814, -0.1613,  0.4828,  0.3993]], requires_grad=True)\n",
            "Weights: Parameter containing:\n",
            "tensor([[2., 2., 2., 2.],\n",
            "        [2., 2., 2., 2.]], requires_grad=True)\n",
            "torch.Size([2, 4]) \n",
            " Input: \n",
            " tensor([[1., 1., 1., 1.],\n",
            "        [1., 1., 1., 1.]])\n",
            "torch.Size([2, 2]) \n",
            " output: \n",
            " tensor([[8., 8.],\n",
            "        [8., 8.]], grad_fn=<MmBackward0>)\n"
          ]
        }
      ],
      "source": [
        "## Linear Layer\n",
        "import torch\n",
        "import torch.nn as nn\n",
        "## create a linear layer:2 x 4 matrix\n",
        "linear_layer = nn.Linear(4, 2, bias=False) #4 feature input, and 2 output\n",
        "print(linear_layer.weight) #random generating weight\n",
        "## assign weight\n",
        "weights = torch.Tensor([\n",
        "    [2,2,2,2],\n",
        "    [2,2,2,2]]\n",
        "    )\n",
        "linear_layer.weight = nn.Parameter(weights)\n",
        "print(\"Weights:\",linear_layer.weight)\n",
        "input = torch.ones((2,4)) #make it simple\n",
        "print(input.shape,\"\\n\",\"Input:\",\"\\n\",input)\n",
        "output = linear_layer(input)\n",
        "print(output.shape,\"\\n\",\"output:\",\"\\n\",output)"
      ]
    }
  ]
}